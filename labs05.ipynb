{
 "cells": [
  {
   "cell_type": "markdown",
   "id": "5e3cbcdd",
   "metadata": {},
   "source": [
    "<p style=\"color: darkred; font-size: 50px; text-align: center;\"><b>Webscraping and Social Media Scraping</b></p>\n",
    "<p style=\"color: darkred; font-size: 30px; text-align: center;\">Labs #5. Scraping dynamic pages</p>\n",
    "<p style=\"font-size: 20px; text-align: center;\">Maciej Świtała, Ewa Weychert</p>\n",
    "<p style=\"font-size: 20px; text-align: center;\">Spring 2025</p>\n",
    "<p align=\"center\">\n",
    "  <img src=\"img/wne-logo-new-en.jpg\" width=\"498\" height=\"107\">\n",
    "</p>"
   ]
  },
  {
   "cell_type": "markdown",
   "id": "879d6338",
   "metadata": {},
   "source": [
    "### Setting up the environment\n",
    "\n",
    "Let us (install if neccessary and) load the needed libraries."
   ]
  },
  {
   "cell_type": "code",
   "execution_count": 1,
   "id": "f1d6c923",
   "metadata": {},
   "outputs": [],
   "source": [
    "#!pip install pandas numpy selenium"
   ]
  },
  {
   "cell_type": "code",
   "execution_count": null,
   "id": "20d56483",
   "metadata": {},
   "outputs": [],
   "source": [
    "# FOR DATA PROCESSING:\n",
    "import pandas as pd\n",
    "import numpy as np\n",
    "\n",
    "# FOR MEASURING COMPUTATION TIME, CREATING FIXED DELAYS:\n",
    "import time\n",
    "\n",
    "# FOR APPLYING SELENIUM:\n",
    "import selenium # Python Selenium\n",
    "from selenium import webdriver # for specifying webdriver\n",
    "\n",
    "from webdriver_manager.chrome import ChromeDriverManager # chromedriver for automatized access to Chrome\n",
    "from webdriver_manager.microsoft import EdgeChromiumDriverManager # msedgedriver for automatized access to Microsoft Edge\n",
    "\n",
    "from selenium.webdriver.chrome.service import Service # needed since Selenium 4.10.0 see: https://github.com/SeleniumHQ/selenium/commit/9f5801c82fb3be3d5850707c46c3f8176e3ccd8e\n",
    "\n",
    "from selenium.webdriver.support.ui import WebDriverWait # this three enable waiting until sth is displayed on website\n",
    "from selenium.webdriver.support import expected_conditions as EC # for checking visibility of an element\n",
    "from selenium.webdriver.common.by import By # for checking element visibility by XPath\n",
    "\n",
    "# FOR SAVING DATA:\n",
    "import pickle # pickle format of saved output\n",
    "\n",
    "def save_object(obj, filename): #  function defined for saving Python objects\n",
    "    with open(filename, 'wb') as output: # overwrites any existing file\n",
    "        pickle.dump(obj, output, pickle.HIGHEST_PROTOCOL)"
   ]
  },
  {
   "cell_type": "markdown",
   "id": "174264a7",
   "metadata": {},
   "source": [
    "### Browsers' drivers\n",
    "\n",
    "To proceed with Selenium, browser's webdriver need to be installed - which exactly depends on the browser we want to use. Here, let us try three the most popular browsers: Chrome, edge and Edge."
   ]
  },
  {
   "cell_type": "code",
   "execution_count": null,
   "id": "d4aefd62",
   "metadata": {},
   "outputs": [
    {
     "name": "stdout",
     "output_type": "stream",
     "text": [
      "C:\\Users\\Wojciech\\.wdm\\drivers\\chromedriver\\win64\\114.0.5735.90\\chromedriver.exe\n",
      "C:\\Users\\Wojciech\\.wdm\\drivers\\geckodriver\\win64\\v0.36.0\\geckodriver.exe\n",
      "C:\\Users\\Wojciech\\.wdm\\drivers\\edgedriver\\win64\\135.0.3179.18\\msedgedriver.exe\n"
     ]
    }
   ],
   "source": [
    "chromepath = ChromeDriverManager().install(); print(chromepath)\n",
    "edgepath = EdgeChromiumDriverManager().install(); print(edgepath)"
   ]
  },
  {
   "cell_type": "markdown",
   "id": "d818c632",
   "metadata": {},
   "source": [
    "### Example: Scrapping news on climate solutions from CNN\n",
    "\n",
    "Before we start: can we scrap news from the CNN website?\n",
    "\n",
    "We should investigate the robots.txt file first, see: https://edition.cnn.com/robots.txt. Looks like one can scrap some of the website's subsections.\n",
    "\n",
    "What about the website's terms of service? Let us investigate it, see: https://edition.cnn.com/2015/01/06/world/terms-service/index.html. No specific statements on webscraping. Yet, clearly we must not collect and process personal data.\n",
    "\n",
    "It is highly unlikely that we could infringe anyone's copyright by scraping content from this website. Also, it is hard to imagine causing a material damage unless we break the website.\n",
    "\n",
    "Conclusion: we can scrap it as long as it is consistent with robots.txt and it is not personal data."
   ]
  },
  {
   "cell_type": "markdown",
   "id": "d07c5a12",
   "metadata": {},
   "source": [
    "Step 1: Open the CNN website with Selenium."
   ]
  },
  {
   "cell_type": "code",
   "execution_count": 8,
   "id": "27655139",
   "metadata": {},
   "outputs": [],
   "source": [
    "from selenium import webdriver\n",
    "from selenium.webdriver.edge.service import Service\n",
    "from selenium.webdriver.edge.options import Options\n",
    "\n",
    "website = \"https://edition.cnn.com/climate/solutions/page/1\"\n",
    "\n",
    "edgepath = r\"C:\\Users\\Wojciech\\.wdm\\drivers\\edgedriver\\win64\\135.0.3179.18\\msedgedriver.exe\"  # Make sure to set the correct path to your Edge driver\n",
    "service_edge = Service(executable_path=edgepath)\n",
    "options_edge = Options()\n",
    "driver_edge = webdriver.Edge(service=service_edge, options=options_edge)  # opens edge\n",
    "\n",
    "driver_edge.maximize_window()  # maximizes browser's window\n",
    "driver_edge.get(website)  # opens a website"
   ]
  },
  {
   "cell_type": "markdown",
   "id": "c8d8698f",
   "metadata": {},
   "source": [
    "Step 2: Accept the cookies."
   ]
  },
  {
   "cell_type": "code",
   "execution_count": 9,
   "id": "b35b56b5",
   "metadata": {},
   "outputs": [],
   "source": [
    "website = \"https://edition.cnn.com/climate/solutions/page/1\"\n",
    "\n",
    "service_Edge = Service(executable_path = edgepath) \n",
    "options_Edge = webdriver.EdgeOptions()\n",
    "driver_Edge = webdriver.Edge(service = service_Edge, options = options_Edge) # opens Edge\n",
    "\n",
    "driver_Edge.maximize_window() # maximizes browser's window\n",
    "driver_Edge.get(website) # opens a website\n",
    "\n",
    "cookies_button_xpath = '''//*[@id=\"onetrust-accept-btn-handler\"]'''\n",
    "\n",
    "# wait at most 30 seconds until cookies button is visible\n",
    "WebDriverWait(driver_Edge, 30).until(EC.visibility_of_element_located((By.XPATH, cookies_button_xpath))) \n",
    "\n",
    "# + wait random time drawn from specific (strongly right-side-skewed) distribution to better imitate human behavior\n",
    "time.sleep(np.random.chisquare(1)+3)\n",
    "\n",
    "content = driver_Edge.find_element(\"xpath\", cookies_button_xpath) # finds the button\n",
    "content.click() # clicks the button"
   ]
  },
  {
   "cell_type": "markdown",
   "id": "ca34985f",
   "metadata": {},
   "source": [
    "Step 3: Build a scraper collecting links to subpages with single news."
   ]
  },
  {
   "cell_type": "code",
   "execution_count": 10,
   "id": "4eefa461",
   "metadata": {},
   "outputs": [
    {
     "name": "stdout",
     "output_type": "stream",
     "text": [
      "29\n",
      "25.26259970664978\n"
     ]
    }
   ],
   "source": [
    "start = time.time()\n",
    "\n",
    "website = \"https://edition.cnn.com/climate/solutions/page/1\" # here we limit to 1st page\n",
    "\n",
    "service_Edge = Service(executable_path = edgepath) \n",
    "options_Edge = webdriver.EdgeOptions()\n",
    "driver_Edge = webdriver.Edge(service = service_Edge, options = options_Edge) # opens Edge\n",
    "\n",
    "driver_Edge.maximize_window() # maximizes browser's window\n",
    "driver_Edge.get(website) # opens a website\n",
    "\n",
    "cookies_button_xpath = '''//*[@id=\"onetrust-accept-btn-handler\"]''' \n",
    "\n",
    "# wait at most 30 seconds until cookies button is visible\n",
    "WebDriverWait(driver_Edge, 30).until(EC.visibility_of_element_located((By.XPATH, cookies_button_xpath))) \n",
    "\n",
    "# + wait random time drawn from specific (strongly right-side-skewed) distribution to better imitate human behavior\n",
    "time.sleep(np.random.chisquare(1)+3)\n",
    "\n",
    "content = driver_Edge.find_element(\"xpath\", cookies_button_xpath) # finds the button\n",
    "content.click() # clicks the button\n",
    "time.sleep(3) # extra time needed for the button to disappear\n",
    "\n",
    "# wait at most 30 seconds until webpage is reloaded\n",
    "WebDriverWait(driver_Edge, 30).until(EC.visibility_of_element_located((By.XPATH, '''//a[contains(@data-link-type,'article')]'''))) \n",
    "\n",
    "# + wait random time drawn from specific (strongly right-side-skewed) distribution to better imitate human behavior\n",
    "time.sleep(np.random.chisquare(1)+3)\n",
    "\n",
    "# finds all <a> elements on website that include: data-link-type='article'\n",
    "tags = driver_Edge.find_elements('xpath','''//a[contains(@data-link-type,'article')]''')\n",
    "\n",
    "# finds all links from the 'tags'\n",
    "hrefs = []\n",
    "for tag in tags:\n",
    "    href = tag.get_attribute('href') # for each <a> finds 'href', i.e., link to subpage\n",
    "    if(href not in hrefs): # here we handle duplicates\n",
    "        hrefs.append(href)\n",
    "\n",
    "driver_Edge.close() # this closes the webdriver\n",
    "        \n",
    "print(len(hrefs))\n",
    "\n",
    "end = time.time()\n",
    "print(end-start)"
   ]
  },
  {
   "cell_type": "markdown",
   "id": "33bfe252",
   "metadata": {},
   "source": [
    "Step 4: Scale the procedure of collecting the links to subpages for the whole section of the website."
   ]
  },
  {
   "cell_type": "code",
   "execution_count": 11,
   "id": "07eb8d02",
   "metadata": {},
   "outputs": [
    {
     "name": "stdout",
     "output_type": "stream",
     "text": [
      "174\n",
      "102.20039010047913\n"
     ]
    }
   ],
   "source": [
    "start = time.time()\n",
    "\n",
    "service_Edge = Service(executable_path = edgepath) \n",
    "options_Edge = webdriver.EdgeOptions()\n",
    "driver_Edge = webdriver.Edge(service = service_Edge, options = options_Edge) # opens Edge\n",
    "\n",
    "driver_Edge.maximize_window() # maximizes browser's window\n",
    "website = \"https://edition.cnn.com/climate/solutions/page/1\"\n",
    "\n",
    "driver_Edge.get(website) # opens a website\n",
    "\n",
    "cookies_button_xpath = '''//*[@id=\"onetrust-accept-btn-handler\"]'''\n",
    "\n",
    "# wait at most 30 seconds until cookies button is visible\n",
    "WebDriverWait(driver_Edge, 30).until(EC.visibility_of_element_located((By.XPATH, cookies_button_xpath))) \n",
    "\n",
    "# + wait random time drawn from specific (strongly right-side-skewed) distribution to better imitate human behavior\n",
    "time.sleep(np.random.chisquare(1)+3)\n",
    "\n",
    "content = driver_Edge.find_element(\"xpath\", cookies_button_xpath) # finds the button\n",
    "content.click() # clicks the button\n",
    "time.sleep(3) # extra time needed for the button to disappear\n",
    "\n",
    "hrefs = []\n",
    "\n",
    "for i in range(1,14): # looks like there are 13 pages (state for 06.03.2025, 16:36)\n",
    "\n",
    "    try:\n",
    "\n",
    "        # wait at most 30 seconds until webpage is reloaded\n",
    "        WebDriverWait(driver_Edge, 30).until(EC.visibility_of_element_located((By.XPATH, '''//a[contains(@data-link-type,'article')]'''))) \n",
    "        \n",
    "        # + wait random time drawn from specific (strongly right-side-skewed) distribution to better imitate human behavior\n",
    "        time.sleep(np.random.chisquare(1)+3)\n",
    "\n",
    "        # finds all <a> elements on website that include: data-link-type='article'\n",
    "        tags = driver_Edge.find_elements('xpath','''//a[contains(@data-link-type,'article')]''')\n",
    "\n",
    "        # finds all links from the 'tags'\n",
    "        for tag in tags:\n",
    "            href = tag.get_attribute('href') # for each <a> finds 'href', i.e., link to subpage\n",
    "            if(href not in hrefs): # here we handle duplicates\n",
    "                hrefs.append(href)\n",
    "\n",
    "        website = \"https://edition.cnn.com/climate/solutions/page/\"+str(i)\n",
    "        driver_Edge.get(website) # opens a website\n",
    "\n",
    "    except:\n",
    "        continue\n",
    "    \n",
    "driver_Edge.close() # this closes the webdriver\n",
    "    \n",
    "print(len(hrefs))\n",
    "\n",
    "end = time.time()\n",
    "print(end-start)"
   ]
  },
  {
   "cell_type": "markdown",
   "id": "0ecd880b",
   "metadata": {},
   "source": [
    "Step 5: Access the collected links and collect the data.\n",
    "\n",
    "CAUTION! It appears we do not have enough time to scrap everything. Let us collect first 30 texts."
   ]
  },
  {
   "cell_type": "code",
   "execution_count": 12,
   "id": "ac327eaa",
   "metadata": {},
   "outputs": [
    {
     "name": "stdout",
     "output_type": "stream",
     "text": [
      "29\n",
      "211.64213299751282\n"
     ]
    }
   ],
   "source": [
    "start = time.time()\n",
    "\n",
    "service_Edge = Service(executable_path = edgepath) \n",
    "options_Edge = webdriver.EdgeOptions()\n",
    "driver_Edge = webdriver.Edge(service = service_Edge, options = options_Edge) # opens Edge\n",
    "\n",
    "driver_Edge.maximize_window() # maximizes browser's window\n",
    "website = hrefs[0]\n",
    "\n",
    "driver_Edge.get(website) # opens a website\n",
    "\n",
    "cookies_button_xpath = '''//*[@id=\"onetrust-accept-btn-handler\"]'''\n",
    "\n",
    "# wait at most 30 seconds until cookies button is visible\n",
    "WebDriverWait(driver_Edge, 30).until(EC.visibility_of_element_located((By.XPATH, cookies_button_xpath))) \n",
    "\n",
    "# + wait random time drawn from specific (strongly right-side-skewed) distribution to better imitate human behavior\n",
    "time.sleep(np.random.chisquare(1)+3)\n",
    "\n",
    "content = driver_Edge.find_element(\"xpath\", cookies_button_xpath) # finds the button\n",
    "content.click() # clicks the button\n",
    "time.sleep(3) # extra time needed for the button to disappear\n",
    "\n",
    "texts = []\n",
    "\n",
    "for href in hrefs[1:30]: # here we limit to first 30 articles\n",
    "\n",
    "    try:\n",
    "\n",
    "        article_content_xpath = '''//div[@class='article__content']'''\n",
    "        \n",
    "        # wait at most 30 seconds until the article is visible\n",
    "        WebDriverWait(driver_Edge, 30).until(EC.visibility_of_element_located((By.XPATH, article_content_xpath))) \n",
    "        \n",
    "        # + wait random time drawn from specific (strongly right-side-skewed) distribution to better imitate human behavior\n",
    "        time.sleep(np.random.chisquare(1)+3)\n",
    "\n",
    "        content = driver_Edge.find_element(\"xpath\", article_content_xpath) # finds the content\n",
    "        texts.append(content.text)\n",
    "        \n",
    "        driver_Edge.get(href)\n",
    "    \n",
    "    except:\n",
    "        continue\n",
    "    \n",
    "driver_Edge.close() # this closes the webdriver\n",
    "    \n",
    "print(len(texts))\n",
    "\n",
    "end = time.time()\n",
    "print(end-start)"
   ]
  },
  {
   "cell_type": "code",
   "execution_count": 13,
   "id": "075c6138",
   "metadata": {},
   "outputs": [],
   "source": [
    "# here, we save what we scraped as pickle or txt\n",
    "# obviously we could use some different formats though\n",
    "save_object(texts, r'outputs/output_CNNclimate.pkl')\n",
    "save_object(texts, r'outputs/output_CNNclimate.txt')"
   ]
  },
  {
   "cell_type": "markdown",
   "id": "ca3f72a2",
   "metadata": {},
   "source": [
    "### Example: setting up more Selenium options\n",
    "\n",
    "Selenium offers plenty of options that can be useful in different context. Let us focus on those that appear the most popular."
   ]
  },
  {
   "cell_type": "code",
   "execution_count": 14,
   "id": "b03589f5",
   "metadata": {},
   "outputs": [
    {
     "name": "stdout",
     "output_type": "stream",
     "text": [
      "30\n",
      "303.9829959869385\n"
     ]
    }
   ],
   "source": [
    "start = time.time()\n",
    "\n",
    "website = \"https://edition.cnn.com/climate/solutions/page/1\"\n",
    "\n",
    "service_Edge = Service(executable_path = edgepath) \n",
    "options_Edge = webdriver.EdgeOptions()\n",
    "\n",
    "############################## CHECK OUT THE OPTIONS ADDED ##############################\n",
    "options_Edge.add_argument(\"--start-maximized\") # the window will start as maximized\n",
    "options_Edge.add_argument(\"--headless\") # browser's window will not be displayed when this applied\n",
    "options_Edge.add_argument(\"--incognito\") # incognito mode\n",
    "options_Edge.add_argument(\"--no-sandbox\")\n",
    "# sandboxing is a security feature that helps isolate web pages in their own secure\n",
    "# \"sandbox\" to prevent malicious code from affecting the entire system\n",
    "options_Edge.add_argument(\"--disable-gpu\")\n",
    "# instructs Chrome to disable the GPU (Graphics Processing Unit) hardware acceleration\n",
    "options_Edge.add_argument(\"--disable-notifications\")\n",
    "options_Edge.add_argument(\"--disable-infobars\")\n",
    "options_Edge.add_argument(\"--disable-extensions\")\n",
    "options_Edge.add_argument(\"--disable-web-security\")\n",
    "#########################################################################################\n",
    "\n",
    "driver_Edge = webdriver.Edge(service = service_Edge, options = options_Edge) # opens Edge\n",
    "\n",
    "driver_Edge.maximize_window() # maximizes browser's window\n",
    "driver_Edge.get(website) # opens a website\n",
    "\n",
    "cookies_button_xpath = '''//*[@id=\"onetrust-accept-btn-handler\"]''' \n",
    "\n",
    "# wait at most 30 seconds until cookies button is visible\n",
    "WebDriverWait(driver_Edge, 30).until(EC.visibility_of_element_located((By.XPATH, cookies_button_xpath))) \n",
    "# + wait random time drawn from specific (strongly right-side-skewed) distribution to better imitate human behavior\n",
    "time.sleep(np.random.chisquare(1)+3)\n",
    "\n",
    "content = driver_Edge.find_element(\"xpath\", cookies_button_xpath) # finds the button\n",
    "content.click() # clicks the button\n",
    "\n",
    "for i in range(1,14): # there are 13 pages, state as for 06.03.2025, 16:36\n",
    "\n",
    "    # wait at most 30 seconds until webpage is reloaded\n",
    "    WebDriverWait(driver_Edge, 30).until(EC.visibility_of_element_located((By.XPATH, '''//a[contains(@data-link-type,'article')]'''))) \n",
    "    # + wait random time drawn from specific (strongly right-side-skewed) distribution to better imitate human behavior\n",
    "    time.sleep(np.random.chisquare(1)+3)\n",
    "\n",
    "    # finds all <a> elements on website that include: data-link-type='article'\n",
    "    tags = driver_Edge.find_elements('xpath','''//a[contains(@data-link-type,'article')]''')\n",
    "\n",
    "    # finds all links from the 'tags'\n",
    "    for tag in tags:\n",
    "        href = tag.get_attribute('href') # for each <a> finds 'href', i.e., link to subpage\n",
    "        if(href not in hrefs): # here we handle duplicates\n",
    "            hrefs.append(href)\n",
    "\n",
    "    website = \"https://edition.cnn.com/climate/solutions/page/\"+str(i)\n",
    "    driver_Edge.get(website) # opens a website\n",
    "        \n",
    "texts = []\n",
    "\n",
    "for href in hrefs[0:30]: # here we limit to first 30 articles\n",
    "    \n",
    "    driver_Edge.get(href)\n",
    "\n",
    "    article_content_xpath = '''//div[@class='article__content']'''\n",
    "    \n",
    "    # wait at most 30 seconds until the article is visible\n",
    "    WebDriverWait(driver_Edge, 30).until(EC.visibility_of_element_located((By.XPATH, article_content_xpath))) \n",
    "    # + wait random time drawn from specific (strongly right-side-skewed) distribution to better imitate human behavior\n",
    "    time.sleep(np.random.chisquare(1)+3)\n",
    "\n",
    "    content = driver_Edge.find_element(\"xpath\", article_content_xpath) # finds the content\n",
    "    texts.append(content.text)\n",
    "    \n",
    "driver_Edge.close() # this closes the webdriver\n",
    "\n",
    "print(len(texts))\n",
    "\n",
    "end = time.time()\n",
    "print(end-start)"
   ]
  },
  {
   "cell_type": "markdown",
   "id": "67785a18",
   "metadata": {},
   "source": [
    "### Example: UserAgent rotation\n",
    "\n",
    "The User-Agent header is an HTTP header designed to identify the user agent responsible for executing a request. One can identify a scraper by it. It is possible to keep it changing. "
   ]
  },
  {
   "cell_type": "code",
   "execution_count": null,
   "id": "58a78958",
   "metadata": {},
   "outputs": [
    {
     "name": "stdout",
     "output_type": "stream",
     "text": [
      "Current User-Agent: Mozilla/5.0 (Windows NT 10.0; Win64; x64; rv:135.0) Gecko/20100101 Firefox/135.0\n"
     ]
    }
   ],
   "source": [
    "service_Edge = Service(executable_path = edgepath) \n",
    "options_Edge = webdriver.EdgeOptions(); options_Edge.add_argument(\"--headless\")\n",
    "driver_Edge = webdriver.Edge(service = service_Edge, options = options_Edge)\n",
    "\n",
    "driver_Edge.get(\"https://us.cnn.com/\")\n",
    "\n",
    "# returns our current User-Agent\n",
    "user_agent = driver_Edge.execute_script(\"return navigator.userAgent;\")\n",
    "print(\"Current User-Agent:\", user_agent)\n",
    "\n",
    "driver_Edge.quit()"
   ]
  },
  {
   "cell_type": "code",
   "execution_count": null,
   "id": "9e03ca80",
   "metadata": {},
   "outputs": [
    {
     "name": "stdout",
     "output_type": "stream",
     "text": [
      "Current User-Agent: Mozilla/5.0 (Windows NT 10.0; Win64; x64) AppleWebKit/537.36 (KHTML, like Gecko) Chrome/121.0.0.0 Safari/537.36 Edg/121.0.0.0\n"
     ]
    }
   ],
   "source": [
    "from fake_useragent import UserAgent\n",
    "\n",
    "# generating fake (random) User-Agent\n",
    "ua = UserAgent()\n",
    "user_agent = ua.random\n",
    "\n",
    "service_Edge = Service(executable_path = edgepath) \n",
    "options_Edge = webdriver.EdgeOptions()\n",
    "options_Edge.add_argument(\"--headless\")\n",
    "options_Edge.set_preference(\"general.useragent.override\", user_agent) # changing User-Agent to the randomly generated one\n",
    "driver_Edge = webdriver.Edge(service = service_Edge, options = options_Edge)\n",
    "\n",
    "driver_Edge.get(\"https://us.cnn.com/\")\n",
    "\n",
    "user_agent = driver_Edge.execute_script(\"return navigator.userAgent;\")\n",
    "print(\"Current User-Agent:\", user_agent)\n",
    "\n",
    "driver_Edge.quit()"
   ]
  },
  {
   "cell_type": "markdown",
   "id": "72a07eda",
   "metadata": {},
   "source": [
    "### Example: device ID rotation\n",
    "\n",
    "One can be also identified and banned based on device ID. It is possible to emulate that we use a fake devide."
   ]
  },
  {
   "cell_type": "code",
   "execution_count": 14,
   "id": "4f6a3ef7",
   "metadata": {},
   "outputs": [
    {
     "name": "stdout",
     "output_type": "stream",
     "text": [
      "Current User-Agent: Mozilla/5.0 (Linux; Android 5.0; SM-G900P Build/LRX21T) AppleWebKit/537.36 (KHTML, like Gecko) Chrome/134.0.0.0 Mobile Safari/537.36\n"
     ]
    }
   ],
   "source": [
    "service_chrome = Service(executable_path = chromepath) \n",
    "options_chrome = webdriver.ChromeOptions(); options_chrome.add_argument(\"--headless\")\n",
    "options_chrome.add_experimental_option(\"mobileEmulation\", {\"deviceName\": \"Galaxy S5\"})\n",
    "driver_chrome = webdriver.Chrome(service = service_chrome, options = options_chrome)\n",
    "\n",
    "driver_chrome.get(\"https://us.cnn.com/\")\n",
    "\n",
    "# returns our current User-Agent\n",
    "user_agent = driver_chrome.execute_script(\"return navigator.userAgent;\")\n",
    "print(\"Current User-Agent:\", user_agent)\n",
    "\n",
    "driver_chrome.quit()"
   ]
  },
  {
   "cell_type": "markdown",
   "id": "e15003e6",
   "metadata": {},
   "source": [
    "List of available devices: https://github.com/DevExpress/device-specs/blob/master/devices.md."
   ]
  },
  {
   "cell_type": "markdown",
   "id": "009912ba",
   "metadata": {},
   "source": [
    "### Example: IP rotation"
   ]
  },
  {
   "cell_type": "code",
   "execution_count": null,
   "id": "8e045cbe",
   "metadata": {},
   "outputs": [],
   "source": [
    "service_Edge = Service(executable_path = edgepath) \n",
    "\n",
    "options_Edge = webdriver.EdgeOptions()\n",
    "options_Edge.add_argument(\"--headless\")\n",
    "\n",
    "driver_Edge = webdriver.Edge(service = service_Edge, options = options_Edge) # opens Edge\n",
    "\n",
    "driver_Edge.get(\"https://sslproxies.org/\") # webpage with some example IPs\n",
    "\n",
    "xpath = \"/html[1]/body[1]/section[1]/div[1]/div[2]/div[1]/table[1]/tbody[1]/tr[1]/td[1]\"\n",
    "\n",
    "WebDriverWait(driver_Edge, 30).until(EC.visibility_of_element_located((By.XPATH, xpath)))\n",
    "time.sleep(np.random.chisquare(1)+3)\n",
    "\n",
    "i = 1; proxy_list = []\n",
    "while(True):\n",
    "    try: # try getting all IPs you can one by one\n",
    "        element1 = driver_Edge.find_element(\"xpath\", \"/html[1]/body[1]/section[1]/div[1]/div[2]/div[1]/table[1]/tbody[1]/tr[\"+str(i)+\"]/td[1]\")\n",
    "        element2 = driver_Edge.find_element(\"xpath\", \"/html[1]/body[1]/section[1]/div[1]/div[2]/div[1]/table[1]/tbody[1]/tr[\"+str(i)+\"]/td[2]\")\n",
    "        \n",
    "        proxy_list.append(element1.text+\":\"+element2.text) # formates to \"IP:port\"\n",
    "        \n",
    "        i += 1 # if no error, then continue\n",
    "    except: # error means no more rows in table with IPs, then break\n",
    "        break\n",
    "        \n",
    "driver_Edge.close()"
   ]
  },
  {
   "cell_type": "code",
   "execution_count": 31,
   "id": "bd3f958d",
   "metadata": {},
   "outputs": [
    {
     "data": {
      "text/plain": [
       "'54.248.238.110:80 51.68.175.56:1080 13.59.156.167:3128 3.141.217.225:80 54.179.39.14:3128 3.130.65.162:3128 3.129.184.210:80 3.139.242.184:80 3.37.125.76:3128 3.71.239.218:3128 44.218.183.55:80 15.236.106.236:3128 13.36.87.105:3128 3.212.148.199:3128 51.20.19.159:3128 3.127.62.252:80 3.122.84.99:3128 13.36.104.85:80 8.219.97.248:80 115.72.34.134:10003 91.107.130.145:11000 71.14.218.2:8080 47.252.29.28:11222 45.140.143.77:18080 86.106.132.194:3128 34.244.90.35:80 13.40.63.96:8001 3.96.208.91:3128 103.133.26.119:8080 44.219.175.186:80 204.236.137.68:80 15.207.35.241:1080 54.152.3.36:80 3.97.167.115:3128 3.97.176.251:3128 13.213.114.238:3128 51.17.58.162:3128 15.156.24.206:3128 52.63.129.110:3128 13.246.209.48:1080 204.236.176.61:3128 52.67.10.183:80 52.196.1.182:80 43.201.121.81:80 43.200.77.128:3128 46.51.249.135:3128 3.124.133.93:3128 35.79.120.242:3128 35.76.62.196:80 35.72.118.126:80 217.77.102.18:3128 13.126.79.133:80 3.136.29.104:80 13.56.192.187:80 47.251.122.81:8888 13.55.210.141:3128 52.65.193.254:3128 18.228.198.164:80 43.202.154.212:80 13.208.56.180:80 193.46.0.103:3128 54.179.44.51:3128 51.20.50.149:3128 13.48.109.48:3128 3.12.144.146:3128 54.233.119.172:3128 18.228.149.161:80 44.195.247.145:80 52.73.224.54:3128 16.16.239.39:3128 3.78.92.159:3128 51.16.179.113:1080 51.16.199.206:3128 13.38.176.104:3128 13.38.153.36:80 4.149.210.210:3128 115.72.47.63:10009 47.243.113.74:5555 47.90.149.238:3128 3.90.100.12:80 65.108.159.129:8081 172.233.78.254:7890 20.27.86.185:8080 80.73.89.78:8080 65.108.203.37:28080 222.68.32.198:8118 175.47.237.95:6128 171.249.172.130:10006 218.51.217.243:8080 115.72.174.54:10007 45.236.171.76:999 80.80.163.194:46276 115.72.13.189:10006 8.215.105.136:7777 171.232.182.38:10009 128.140.113.110:8080 111.132.17.233:3389 47.245.8.212:3389 45.149.93.215:8080 49.71.105.242:3712'"
      ]
     },
     "execution_count": 31,
     "metadata": {},
     "output_type": "execute_result"
    }
   ],
   "source": [
    "' '.join(proxy_list)"
   ]
  },
  {
   "cell_type": "code",
   "execution_count": 5,
   "id": "f69b8b36",
   "metadata": {},
   "outputs": [
    {
     "data": {
      "text/plain": [
       "100"
      ]
     },
     "execution_count": 5,
     "metadata": {},
     "output_type": "execute_result"
    }
   ],
   "source": [
    "len(proxy_list)"
   ]
  },
  {
   "cell_type": "code",
   "execution_count": null,
   "id": "c499a06c",
   "metadata": {},
   "outputs": [],
   "source": [
    "from selenium.webdriver.edge.options import Options\n",
    "from selenium.webdriver.common.proxy import Proxy, ProxyType\n",
    "\n",
    "current_proxy_index = 0\n",
    "\n",
    "def get_next_proxy():\n",
    "    global current_proxy_index, proxy_list\n",
    "    \n",
    "    proxy = proxy_list[current_proxy_index]\n",
    "    current_proxy_index = (current_proxy_index + 1) % len(proxy_list)\n",
    "    # increases proxy index by 1 and takes the remains from division with the number of proxies\n",
    "    # terefore it goes: 0, 1, 2, ..., 98, 99, 0, 1, 2, ...\n",
    "    \n",
    "    return proxy\n",
    "\n",
    "def setup_driver(proxy_address):\n",
    "\n",
    "    options_Edge = Options()\n",
    "\n",
    "    options_Edge.set_preference(\"network.proxy.type\", 1)\n",
    "    options_Edge.set_preference(\"network.proxy.http\", proxy_address.split(':')[0])\n",
    "    options_Edge.set_preference(\"network.proxy.http_port\", int(proxy_address.split(':')[1]))\n",
    "    options_Edge.set_preference(\"network.proxy.ssl\", proxy_address.split(':')[0])\n",
    "    options_Edge.set_preference(\"network.proxy.ssl_port\", int(proxy_address.split(':')[1]))\n",
    "    options_Edge.set_preference(\"network.proxy.socks\", proxy_address.split(':')[0])\n",
    "    options_Edge.set_preference(\"network.proxy.socks_port\", int(proxy_address.split(':')[1]))\n",
    "    options_Edge.set_preference(\"network.proxy.socks_version\", 5)\n",
    "    options_Edge.set_preference(\"network.proxy.share_proxy_settings\", True)\n",
    "    options_Edge.set_preference(\"network.proxy.no_proxies_on\", \"localhost, 127.0.0.1\")\n",
    "\n",
    "    options_Edge.set_preference(\"signon.autofillForms\", False)\n",
    "    options_Edge.set_preference(\"signon.rememberSignons\", False)\n",
    "    options_Edge.set_preference(\"network.http.use-cache\", False)\n",
    "\n",
    "    options_Edge.add_argument(\"--headless\")\n",
    "\n",
    "    driver_Edge = webdriver.Edge(options=options_Edge)\n",
    "\n",
    "    return driver_Edge"
   ]
  },
  {
   "cell_type": "markdown",
   "id": "dfe7433b",
   "metadata": {},
   "source": [
    "Let us try using a proxy. We will start from https://api64.ipify.org to check if our IP changes."
   ]
  },
  {
   "cell_type": "code",
   "execution_count": null,
   "id": "b322614a",
   "metadata": {},
   "outputs": [
    {
     "name": "stdout",
     "output_type": "stream",
     "text": [
      "Current IP: 78.11.220.225\n"
     ]
    }
   ],
   "source": [
    "service_Edge = Service(executable_path = edgepath) \n",
    "\n",
    "options_Edge = webdriver.EdgeOptions()\n",
    "options_Edge.add_argument(\"--headless\")\n",
    "\n",
    "driver_Edge = webdriver.Edge(service = service_Edge, options = options_Edge) # opens Edge\n",
    "\n",
    "driver_Edge.get(\"https://api64.ipify.org\")\n",
    "\n",
    "WebDriverWait(driver_Edge, 30).until(EC.visibility_of_element_located((By.XPATH, \"/html[1]/body[1]/pre[1]\")))\n",
    "time.sleep(np.random.chisquare(1)+3)\n",
    "\n",
    "element = driver_Edge.find_element('xpath',\"/html[1]/body[1]/pre[1]\")\n",
    "print(\"Current IP:\", element.text)\n",
    "\n",
    "driver_Edge.close()"
   ]
  },
  {
   "cell_type": "code",
   "execution_count": null,
   "id": "9303a4e1",
   "metadata": {},
   "outputs": [
    {
     "name": "stdout",
     "output_type": "stream",
     "text": [
      "0\n",
      "1\n",
      "2\n",
      "3\n",
      "Current IP: 200.174.198.197\n"
     ]
    }
   ],
   "source": [
    "for i in range(100): \n",
    "# we try it as many times as needed for https://api64.ipify.org to be accessed\n",
    "# neccessary as Internet connection can be unstable, and IP can be in use\n",
    "\n",
    "    print(i)\n",
    "    try:\n",
    "        proxy_address = get_next_proxy()\n",
    "        driver_Edge = setup_driver(proxy_address)\n",
    "        \n",
    "        driver_Edge.get('https://api64.ipify.org')\n",
    "        \n",
    "        WebDriverWait(driver_Edge, 30).until(EC.visibility_of_element_located((By.XPATH, \"/html[1]/body[1]/pre[1]\")))\n",
    "        time.sleep(np.random.chisquare(1)+3)\n",
    "\n",
    "        element = driver_Edge.find_element('xpath',\"/html[1]/body[1]/pre[1]\")\n",
    "        print(\"Current IP:\", element.text)\n",
    "\n",
    "        driver_Edge.close()\n",
    "        break\n",
    "        \n",
    "    except:\n",
    "        driver_Edge.close()\n",
    "        continue"
   ]
  },
  {
   "cell_type": "markdown",
   "id": "a4d23ce0",
   "metadata": {},
   "source": [
    "It is not efficient as when we try certain IP, probably some other people are using them (as these are freely available online). To make the procedure more efficient, one should introduce a mechanism of building a machine with new IP, e.g. with **scrapoxy**."
   ]
  },
  {
   "cell_type": "markdown",
   "id": "328d512d",
   "metadata": {},
   "source": [
    "### Supplementary materials\n",
    "\n",
    "More Selenium options can be found here: https://www.seleniumeasy.com/."
   ]
  },
  {
   "cell_type": "markdown",
   "id": "46164e6a",
   "metadata": {},
   "source": [
    "### Exercises\n",
    "\n",
    "##### Exercise 1.\n",
    "\n",
    "Collect texts of court cases issued before the District Court in Warsaw in 01.01.2020-31.12.2024 using https://orzeczenia.ms.gov.pl/. Fill in the search tool as presented in `img/example.png` and search for the cases (i.e. click the 'Szukaj' button). You can fill certain parts of the website with content executing `element = driver_chrome.find_element(); element.send_keys()` Next, access the subpages with texts of court cases and collect them. Specify the delays wisely as this website involves CAPTCHAs.\n",
    "\n",
    "##### Exercise 2.\n",
    "\n",
    "Collect individual opinions on McDonald's restaurant shared by its employees from: https://www.niche.com/places-to-work/mcdonalds-oak-brook-il/reviews/. Use the advanced Selenium options. Check if UserAgent, Device ID or IP rotation is needed as this website blocks when multiple requests from the same UserAgent are sent."
   ]
  }
 ],
 "metadata": {
  "kernelspec": {
   "display_name": "Python 3",
   "language": "python",
   "name": "python3"
  },
  "language_info": {
   "codemirror_mode": {
    "name": "ipython",
    "version": 3
   },
   "file_extension": ".py",
   "mimetype": "text/x-python",
   "name": "python",
   "nbconvert_exporter": "python",
   "pygments_lexer": "ipython3",
   "version": "3.13.2"
  }
 },
 "nbformat": 4,
 "nbformat_minor": 5
}
